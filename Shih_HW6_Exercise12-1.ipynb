{
 "cells": [
  {
   "cell_type": "code",
   "execution_count": 4,
   "metadata": {},
   "outputs": [],
   "source": [
    "# Exercise 12-1\n",
    "# Write a function that takes a string and prints the letters in \n",
    "#     decreasing order of frequency. Compare text samples from\n",
    "#     different languages\n",
    "\n",
    "\n",
    "def most_frequent(s):\n",
    "    \n",
    "    d = dict()\n",
    "    line = \"\"\n",
    "    mostFreq = 0\n",
    "    \n",
    "    # Use a dictionary as counter for each letter in string s\n",
    "    for c in s:\n",
    "        if c not in d:\n",
    "            d[c] = 1\n",
    "        else:\n",
    "            d[c] +=1\n",
    "    \n",
    "    # Get a dict_items iterator object which is a sequence of tuples for each key-value pair in d\n",
    "    u = d.items()\n",
    "\n",
    "    # Iterate through sequence of tuples to find one with largest counter value\n",
    "    for i,j in u:\n",
    "        if int(j) > mostFreq:\n",
    "            mostFreq = j\n",
    "        \n",
    "    # Iterate through sequence of tuples again to find ones with \n",
    "    #     specific counter value, then concatenate the associated letter\n",
    "    #     to a string\n",
    "    for n in range(mostFreq):\n",
    "        for i,j in u:\n",
    "            if j == mostFreq:\n",
    "                line += str(i)\n",
    "        mostFreq -= 1\n",
    "        \n",
    "    print(\"For the string '\" + s + \"' the letters in\\n decreasing order of frequency are: \"+ line)\n",
    "    "
   ]
  },
  {
   "cell_type": "code",
   "execution_count": 5,
   "metadata": {
    "scrolled": true
   },
   "outputs": [],
   "source": [
    "strEnglish = \"Why is there a cat in my chair?\"\n",
    "strGerman = \"Warum ist eine Katze auf meinem Stuhl?\"\n",
    "strFrench = \"Pourquoi y a-t-il un chat dans ma chaise?\"\n",
    "strSpanish = \"¿Por qué hay un gato en mi silla?\"\n",
    "strWelsh = \"Pam mae cath yn fy nghadair?\"\n",
    "strBasque = \"Zergatik dago katu bat nire aulkian?\"\n",
    "strIndonesian = \"Kenapa ada kucing di kursiku?\"\n",
    "strSwedish = \"Varför finns det en katt i min stol?\""
   ]
  },
  {
   "cell_type": "code",
   "execution_count": 6,
   "metadata": {},
   "outputs": [
    {
     "name": "stdout",
     "output_type": "stream",
     "text": [
      "For the string 'Why is there a cat in my chair?' the letters in\n",
      " decreasing order of frequency are:  hiaytercWsnm?\n",
      "For the string 'Warum ist eine Katze auf meinem Stuhl?' the letters in\n",
      " decreasing order of frequency are:  eaumitnWrsKzfShl?\n",
      "For the string 'Pourquoi y a-t-il un chat dans ma chaise?' the letters in\n",
      " decreasing order of frequency are:  auio-tnchsPrqyldme?\n",
      "For the string '¿Por qué hay un gato en mi silla?' the letters in\n",
      " decreasing order of frequency are:  aounil¿Prqéhygtems?\n",
      "For the string 'Pam mae cath yn fy nghadair?' the letters in\n",
      " decreasing order of frequency are: a mhynPectfgdir?\n",
      "For the string 'Zergatik dago katu bat nire aulkian?' the letters in\n",
      " decreasing order of frequency are: a tikergunZdobl?\n",
      "For the string 'Kenapa ada kucing di kursiku?' the letters in\n",
      " decreasing order of frequency are: a kuindKepcgrs?\n",
      "For the string 'Varför finns det en katt i min stol?' the letters in\n",
      " decreasing order of frequency are:  ntiarfseVödkmol?\n"
     ]
    }
   ],
   "source": [
    "most_frequent(strEnglish)\n",
    "most_frequent(strGerman)\n",
    "most_frequent(strFrench)\n",
    "most_frequent(strSpanish)\n",
    "most_frequent(strWelsh)\n",
    "most_frequent(strBasque)\n",
    "most_frequent(strIndonesian)\n",
    "most_frequent(strSwedish)"
   ]
  },
  {
   "cell_type": "code",
   "execution_count": null,
   "metadata": {},
   "outputs": [],
   "source": []
  }
 ],
 "metadata": {
  "kernelspec": {
   "display_name": "geo_env",
   "language": "python",
   "name": "geo_env"
  },
  "language_info": {
   "codemirror_mode": {
    "name": "ipython",
    "version": 3
   },
   "file_extension": ".py",
   "mimetype": "text/x-python",
   "name": "python",
   "nbconvert_exporter": "python",
   "pygments_lexer": "ipython3",
   "version": "3.7.8"
  }
 },
 "nbformat": 4,
 "nbformat_minor": 4
}
